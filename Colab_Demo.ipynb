{
  "nbformat": 4,
  "nbformat_minor": 0,
  "metadata": {
    "colab": {
      "provenance": [],
      "authorship_tag": "ABX9TyMp9O+KKKP88zNlt03pBnlx",
      "include_colab_link": true
    },
    "kernelspec": {
      "name": "python3",
      "display_name": "Python 3"
    },
    "language_info": {
      "name": "python"
    },
    "gpuClass": "standard",
    "accelerator": "GPU"
  },
  "cells": [
    {
      "cell_type": "markdown",
      "metadata": {
        "id": "view-in-github",
        "colab_type": "text"
      },
      "source": [
        "<a href=\"https://colab.research.google.com/github/classaccounts/colab-test/blob/main/Colab_Demo.ipynb\" target=\"_parent\"><img src=\"https://colab.research.google.com/assets/colab-badge.svg\" alt=\"Open In Colab\"/></a>"
      ]
    },
    {
      "cell_type": "markdown",
      "source": [
        "# Keras Example\n",
        "\n",
        "Here is my demo of google colab\n"
      ],
      "metadata": {
        "id": "HDQ0WZuXymw3"
      }
    },
    {
      "cell_type": "code",
      "source": [
        "#imports that do not exist in Google's runtime\n",
        "#!pip install matplotlib-venn\n",
        "#!apt-get -qq install -y libfluidsynth1"
      ],
      "metadata": {
        "id": "O4j3LNvy329Z"
      },
      "execution_count": 1,
      "outputs": []
    },
    {
      "cell_type": "code",
      "source": [
        "#imports\n",
        "from tensorflow.keras.datasets import mnist\n",
        "from tensorflow import keras \n",
        "from tensorflow.keras import layers\n",
        "import matplotlib.pyplot as plt\n",
        "import subprocess"
      ],
      "metadata": {
        "id": "_yhuEryWy3dX"
      },
      "execution_count": 2,
      "outputs": []
    },
    {
      "cell_type": "markdown",
      "source": [
        "Loading data from MNIST"
      ],
      "metadata": {
        "id": "XUpCUC88zUew"
      }
    },
    {
      "cell_type": "code",
      "source": [
        "(train_images, train_labels), (test_images, test_labels) = mnist.load_data()"
      ],
      "metadata": {
        "id": "4yXW2E03zRDp"
      },
      "execution_count": 14,
      "outputs": []
    },
    {
      "cell_type": "markdown",
      "source": [
        "Show an example of the image"
      ],
      "metadata": {
        "id": "PxZsG4FA1pvL"
      }
    },
    {
      "cell_type": "code",
      "source": [
        "train_set_image_index = 7 #@param {type:\"number\"}\n",
        "digit = train_images[train_set_image_index ]\n",
        "plt.imshow(digit, cmap=plt.cm.binary)\n",
        "plt.show()"
      ],
      "metadata": {
        "colab": {
          "base_uri": "https://localhost:8080/",
          "height": 265
        },
        "id": "6t7JbnkH1i4t",
        "outputId": "7735a88e-a721-417d-db2e-45dc0926de74"
      },
      "execution_count": 16,
      "outputs": [
        {
          "output_type": "display_data",
          "data": {
            "text/plain": [
              "<Figure size 432x288 with 1 Axes>"
            ],
            "image/png": "[encoded data removed]"
          },
          "metadata": {
            "needs_background": "light"
          }
        }
      ]
    },
    {
      "cell_type": "code",
      "source": [
        "import numpy as np\n",
        "import random\n",
        "import time\n",
        "from google.colab import widgets\n",
        "from matplotlib import pylab\n",
        "grid = widgets.Grid(2, 2)\n",
        "for i in range(3):\n",
        "  with grid.output_to(0, 1):\n",
        "     digit = train_images[i]\n",
        "     plt.imshow(digit, cmap=plt.cm.binary)\n",
        "     plt.show()\n",
        "  time.sleep(0.5)"
      ],
      "metadata": {
        "colab": {
          "base_uri": "https://localhost:8080/",
          "height": 768
        },
        "id": "MIzdk4Qt4eUK",
        "outputId": "ccc27c60-eee8-40f2-853c-173876788ba8"
      },
      "execution_count": 17,
      "outputs": [
        {
          "output_type": "display_data",
          "data": {
            "text/plain": [
              "<IPython.core.display.HTML object>"
            ],
            "text/html": [
              "<style>\n",
              "       table#id4, #id4 > tbody > tr > th, #id4 > tbody > tr > td {\n",
              "         border: 1px solid lightgray;\n",
              "         border-collapse:collapse;\n",
              "         \n",
              "        }</style>"
            ]
          },
          "metadata": {}
        },
        {
          "output_type": "display_data",
          "data": {
            "text/plain": [
              "<IPython.core.display.HTML object>"
            ],
            "text/html": [
              "<table id=id4><tr><td id=id4-0-0></td><td id=id4-0-1></td></tr><tr><td id=id4-1-0></td><td id=id4-1-1></td></tr></table>"
            ]
          },
          "metadata": {}
        },
        {
          "output_type": "display_data",
          "data": {
            "text/plain": [
              "<IPython.core.display.Javascript object>"
            ],
            "application/javascript": [
              "window[\"385021c6-9ba0-11ed-bd4c-0242ac1c000c\"] = google.colab.output.getActiveOutputArea();\n",
              "//# sourceURL=js_60ce4a9b27"
            ]
          },
          "metadata": {}
        },
        {
          "output_type": "display_data",
          "data": {
            "text/plain": [
              "<IPython.core.display.Javascript object>"
            ],
            "application/javascript": [
              "window[\"3850af6a-9ba0-11ed-bd4c-0242ac1c000c\"] = document.querySelector(\"#id4-0-1\");\n",
              "//# sourceURL=js_986acbd60b"
            ]
          },
          "metadata": {}
        },
        {
          "output_type": "display_data",
          "data": {
            "text/plain": [
              "<IPython.core.display.Javascript object>"
            ],
            "application/javascript": [
              "window[\"385133cc-9ba0-11ed-bd4c-0242ac1c000c\"] = google.colab.output.setActiveOutputArea(window[\"3850af6a-9ba0-11ed-bd4c-0242ac1c000c\"]);\n",
              "//# sourceURL=js_18fed96dd7"
            ]
          },
          "metadata": {}
        },
        {
          "output_type": "display_data",
          "data": {
            "text/plain": [
              "<Figure size 432x288 with 1 Axes>"
            ],
            "image/png": "[encoded data removed]"
          },
          "metadata": {
            "needs_background": "light"
          }
        },
        {
          "output_type": "display_data",
          "data": {
            "text/plain": [
              "<IPython.core.display.Javascript object>"
            ],
            "application/javascript": [
              "window[\"3865bcd4-9ba0-11ed-bd4c-0242ac1c000c\"] = google.colab.output.setActiveOutputArea(window[\"385021c6-9ba0-11ed-bd4c-0242ac1c000c\"]);\n",
              "//# sourceURL=js_4113f6f109"
            ]
          },
          "metadata": {}
        },
        {
          "output_type": "display_data",
          "data": {
            "text/plain": [
              "<IPython.core.display.Javascript object>"
            ],
            "application/javascript": [
              "window[\"38b596d2-9ba0-11ed-bd4c-0242ac1c000c\"] = google.colab.output.getActiveOutputArea();\n",
              "//# sourceURL=js_2bf790e186"
            ]
          },
          "metadata": {}
        },
        {
          "output_type": "display_data",
          "data": {
            "text/plain": [
              "<IPython.core.display.Javascript object>"
            ],
            "application/javascript": [
              "window[\"38b62a48-9ba0-11ed-bd4c-0242ac1c000c\"] = document.querySelector(\"#id4-0-1\");\n",
              "//# sourceURL=js_888f3731ab"
            ]
          },
          "metadata": {}
        },
        {
          "output_type": "display_data",
          "data": {
            "text/plain": [
              "<IPython.core.display.Javascript object>"
            ],
            "application/javascript": [
              "window[\"38b6c85e-9ba0-11ed-bd4c-0242ac1c000c\"] = google.colab.output.setActiveOutputArea(window[\"38b62a48-9ba0-11ed-bd4c-0242ac1c000c\"]);\n",
              "//# sourceURL=js_55a03f8ddf"
            ]
          },
          "metadata": {}
        },
        {
          "output_type": "display_data",
          "data": {
            "text/plain": [
              "<Figure size 432x288 with 1 Axes>"
            ],
            "image/png": "[encoded data removed]"
          },
          "metadata": {
            "needs_background": "light"
          }
        },
        {
          "output_type": "display_data",
          "data": {
            "text/plain": [
              "<IPython.core.display.Javascript object>"
            ],
            "application/javascript": [
              "window[\"38e83862-9ba0-11ed-bd4c-0242ac1c000c\"] = google.colab.output.setActiveOutputArea(window[\"38b596d2-9ba0-11ed-bd4c-0242ac1c000c\"]);\n",
              "//# sourceURL=js_f2370c3148"
            ]
          },
          "metadata": {}
        },
        {
          "output_type": "display_data",
          "data": {
            "text/plain": [
              "<IPython.core.display.Javascript object>"
            ],
            "application/javascript": [
              "window[\"39381bd4-9ba0-11ed-bd4c-0242ac1c000c\"] = google.colab.output.getActiveOutputArea();\n",
              "//# sourceURL=js_c8fe9145b4"
            ]
          },
          "metadata": {}
        },
        {
          "output_type": "display_data",
          "data": {
            "text/plain": [
              "<IPython.core.display.Javascript object>"
            ],
            "application/javascript": [
              "window[\"39390576-9ba0-11ed-bd4c-0242ac1c000c\"] = document.querySelector(\"#id4-0-1\");\n",
              "//# sourceURL=js_df32d07ba9"
            ]
          },
          "metadata": {}
        },
        {
          "output_type": "display_data",
          "data": {
            "text/plain": [
              "<IPython.core.display.Javascript object>"
            ],
            "application/javascript": [
              "window[\"39398190-9ba0-11ed-bd4c-0242ac1c000c\"] = google.colab.output.setActiveOutputArea(window[\"39390576-9ba0-11ed-bd4c-0242ac1c000c\"]);\n",
              "//# sourceURL=js_9dc17072cf"
            ]
          },
          "metadata": {}
        },
        {
          "output_type": "display_data",
          "data": {
            "text/plain": [
              "<Figure size 432x288 with 1 Axes>"
            ],
            "image/png": "[encoded data removed]"
          },
          "metadata": {
            "needs_background": "light"
          }
        },
        {
          "output_type": "display_data",
          "data": {
            "text/plain": [
              "<IPython.core.display.Javascript object>"
            ],
            "application/javascript": [
              "window[\"39750ddc-9ba0-11ed-bd4c-0242ac1c000c\"] = google.colab.output.setActiveOutputArea(window[\"39381bd4-9ba0-11ed-bd4c-0242ac1c000c\"]);\n",
              "//# sourceURL=js_98a5c1b3ea"
            ]
          },
          "metadata": {}
        }
      ]
    },
    {
      "cell_type": "markdown",
      "source": [
        "Add dense layers"
      ],
      "metadata": {
        "id": "0X1iXdITzgiq"
      }
    },
    {
      "cell_type": "code",
      "source": [
        "model = keras.Sequential([\n",
        "    layers.Dense(512, activation=\"relu\"),\n",
        "    layers.Dense(10, activation=\"softmax\")\n",
        "])"
      ],
      "metadata": {
        "id": "DmGB3UIwzgRS"
      },
      "execution_count": 6,
      "outputs": []
    },
    {
      "cell_type": "markdown",
      "source": [
        "Reshape training and testing sets to match expected input"
      ],
      "metadata": {
        "id": "VEkwu9MzzpNR"
      }
    },
    {
      "cell_type": "code",
      "source": [
        "train_images = train_images.reshape((60000, 28 * 28))\n",
        "train_images = train_images.astype(\"float32\") / 255 \n",
        "test_images = test_images.reshape((10000, 28 * 28))\n",
        "test_images = test_images.astype(\"float32\") / 255"
      ],
      "metadata": {
        "id": "4G5NYnTbzkGa"
      },
      "execution_count": 7,
      "outputs": []
    },
    {
      "cell_type": "markdown",
      "source": [
        "Compile the model"
      ],
      "metadata": {
        "id": "K18ewSpB0qtr"
      }
    },
    {
      "cell_type": "code",
      "source": [
        "model.compile(optimizer=\"rmsprop\",\n",
        "              loss=\"sparse_categorical_crossentropy\",\n",
        "              metrics=[\"accuracy\"])"
      ],
      "metadata": {
        "id": "k4VrBuJe0tSo"
      },
      "execution_count": 8,
      "outputs": []
    },
    {
      "cell_type": "markdown",
      "source": [
        "Fit the model and train it"
      ],
      "metadata": {
        "id": "WFEw24F-z4yc"
      }
    },
    {
      "cell_type": "code",
      "source": [
        "model.fit(train_images, train_labels, epochs=10, batch_size=128)"
      ],
      "metadata": {
        "colab": {
          "base_uri": "https://localhost:8080/"
        },
        "id": "Eo00El3Nz3Fl",
        "outputId": "57c7b80d-8bed-48ec-e8ae-66b6225c9c8b"
      },
      "execution_count": 9,
      "outputs": [
        {
          "output_type": "stream",
          "name": "stdout",
          "text": [
            "Epoch 1/10\n",
            "469/469 [==============================] - 7s 3ms/step - loss: 0.2592 - accuracy: 0.9250\n",
            "Epoch 2/10\n",
            "469/469 [==============================] - 1s 3ms/step - loss: 0.1026 - accuracy: 0.9693\n",
            "Epoch 3/10\n",
            "469/469 [==============================] - 1s 3ms/step - loss: 0.0677 - accuracy: 0.9793\n",
            "Epoch 4/10\n",
            "469/469 [==============================] - 1s 3ms/step - loss: 0.0493 - accuracy: 0.9852\n",
            "Epoch 5/10\n",
            "469/469 [==============================] - 1s 3ms/step - loss: 0.0373 - accuracy: 0.9887\n",
            "Epoch 6/10\n",
            "469/469 [==============================] - 1s 3ms/step - loss: 0.0287 - accuracy: 0.9919\n",
            "Epoch 7/10\n",
            "469/469 [==============================] - 1s 3ms/step - loss: 0.0223 - accuracy: 0.9933\n",
            "Epoch 8/10\n",
            "469/469 [==============================] - 1s 3ms/step - loss: 0.0170 - accuracy: 0.9954\n",
            "Epoch 9/10\n",
            "469/469 [==============================] - 1s 3ms/step - loss: 0.0131 - accuracy: 0.9962\n",
            "Epoch 10/10\n",
            "469/469 [==============================] - 1s 3ms/step - loss: 0.0107 - accuracy: 0.9968\n"
          ]
        },
        {
          "output_type": "execute_result",
          "data": {
            "text/plain": [
              "<keras.callbacks.History at 0x7ff6204aef40>"
            ]
          },
          "metadata": {},
          "execution_count": 9
        }
      ]
    },
    {
      "cell_type": "markdown",
      "source": [
        "Make predictions using the model"
      ],
      "metadata": {
        "id": "fUuCRkG10B99"
      }
    },
    {
      "cell_type": "code",
      "source": [
        "test_digits = test_images[0:10]\n",
        "predictions = model.predict(test_digits)\n",
        "display(predictions[0])\n",
        "display(predictions[0].argmax())\n",
        "display(predictions[0][7])"
      ],
      "metadata": {
        "colab": {
          "base_uri": "https://localhost:8080/",
          "height": 127
        },
        "id": "UJAYQMbX0F4U",
        "outputId": "530c0186-7c7e-496e-f0c4-4bed38ac9ca7"
      },
      "execution_count": 10,
      "outputs": [
        {
          "output_type": "stream",
          "name": "stdout",
          "text": [
            "1/1 [==============================] - 0s 59ms/step\n"
          ]
        },
        {
          "output_type": "display_data",
          "data": {
            "text/plain": [
              "array([3.86300150e-14, 1.99621499e-16, 1.40553602e-09, 2.43240123e-07,\n",
              "       6.51887078e-17, 6.94163314e-13, 4.40480492e-23, 9.99999762e-01,\n",
              "       1.56609448e-12, 1.12636116e-10], dtype=float32)"
            ]
          },
          "metadata": {}
        },
        {
          "output_type": "display_data",
          "data": {
            "text/plain": [
              "7"
            ]
          },
          "metadata": {}
        },
        {
          "output_type": "display_data",
          "data": {
            "text/plain": [
              "0.99999976"
            ]
          },
          "metadata": {}
        }
      ]
    },
    {
      "cell_type": "markdown",
      "source": [
        "Calculate the model loss and accuracy on the testing set"
      ],
      "metadata": {
        "id": "8GO8M0Hd0Whi"
      }
    },
    {
      "cell_type": "code",
      "source": [
        "test_loss, test_acc = model.evaluate(test_images, test_labels)\n",
        "print(f\"test_acc: {test_acc}\")"
      ],
      "metadata": {
        "colab": {
          "base_uri": "https://localhost:8080/"
        },
        "id": "rLN1nt1h0bQs",
        "outputId": "aa924e5c-1a58-49aa-dea4-9499f979b827"
      },
      "execution_count": 11,
      "outputs": [
        {
          "output_type": "stream",
          "name": "stdout",
          "text": [
            "313/313 [==============================] - 1s 2ms/step - loss: 0.0750 - accuracy: 0.9811\n",
            "test_acc: 0.9811000227928162\n"
          ]
        }
      ]
    },
    {
      "cell_type": "code",
      "source": [
        "result = subprocess.run([\"ls\", \"/\"], stdout=subprocess.PIPE)\n",
        "print(result.stdout.decode())"
      ],
      "metadata": {
        "colab": {
          "base_uri": "https://localhost:8080/"
        },
        "id": "MSCZc-Ii6kYK",
        "outputId": "69e66d80-e531-44ea-f23b-296280f9f8e5"
      },
      "execution_count": 12,
      "outputs": [
        {
          "output_type": "stream",
          "name": "stdout",
          "text": [
            "bin\n",
            "boot\n",
            "content\n",
            "datalab\n",
            "dev\n",
            "etc\n",
            "home\n",
            "lib\n",
            "lib32\n",
            "lib64\n",
            "libx32\n",
            "media\n",
            "mnt\n",
            "NGC-DL-CONTAINER-LICENSE\n",
            "opt\n",
            "proc\n",
            "root\n",
            "run\n",
            "sbin\n",
            "srv\n",
            "sys\n",
            "tmp\n",
            "tools\n",
            "usr\n",
            "var\n",
            "\n"
          ]
        }
      ]
    }
  ]
}