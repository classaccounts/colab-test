{
  "nbformat": 4,
  "nbformat_minor": 0,
  "metadata": {
    "colab": {
      "provenance": [],
      "authorship_tag": "ABX9TyM5CFtkxWEUyMVarvcGr/9H",
      "include_colab_link": true
    },
    "kernelspec": {
      "name": "python3",
      "display_name": "Python 3"
    },
    "language_info": {
      "name": "python"
    },
    "gpuClass": "standard",
    "accelerator": "GPU"
  },
  "cells": [
    {
      "cell_type": "markdown",
      "metadata": {
        "id": "view-in-github",
        "colab_type": "text"
      },
      "source": [
        "<a href=\"https://colab.research.google.com/github/classaccounts/colab-test/blob/main/Colab_Demo.ipynb\" target=\"_parent\"><img src=\"https://colab.research.google.com/assets/colab-badge.svg\" alt=\"Open In Colab\"/></a>"
      ]
    },
    {
      "cell_type": "markdown",
      "source": [
        "# Keras Example\n",
        "\n",
        "Here is my demo of google colab\n"
      ],
      "metadata": {
        "id": "HDQ0WZuXymw3"
      }
    },
    {
      "cell_type": "code",
      "source": [
        "#imports that do not exist in Google's runtime\n",
        "#!pip install matplotlib-venn\n",
        "#!apt-get -qq install -y libfluidsynth1"
      ],
      "metadata": {
        "id": "O4j3LNvy329Z"
      },
      "execution_count": 1,
      "outputs": []
    },
    {
      "cell_type": "code",
      "source": [
        "#imports\n",
        "from tensorflow.keras.datasets import mnist\n",
        "from tensorflow import keras \n",
        "from tensorflow.keras import layers\n",
        "import matplotlib.pyplot as plt\n",
        "import subprocess"
      ],
      "metadata": {
        "id": "_yhuEryWy3dX"
      },
      "execution_count": 2,
      "outputs": []
    },
    {
      "cell_type": "markdown",
      "source": [
        "Loading data from MNIST"
      ],
      "metadata": {
        "id": "XUpCUC88zUew"
      }
    },
    {
      "cell_type": "code",
      "source": [
        "(train_images, train_labels), (test_images, test_labels) = mnist.load_data()"
      ],
      "metadata": {
        "id": "4yXW2E03zRDp"
      },
      "execution_count": 14,
      "outputs": []
    },
    {
      "cell_type": "markdown",
      "source": [
        "Show an example of the image"
      ],
      "metadata": {
        "id": "PxZsG4FA1pvL"
      }
    },
    {
      "cell_type": "code",
      "source": [
        "train_set_image_index = 9 #@param {type:\"number\"}\n",
        "digit = train_images[train_set_image_index ]\n",
        "plt.imshow(digit, cmap=plt.cm.binary)\n",
        "plt.show()"
      ],
      "metadata": {
        "colab": {
          "base_uri": "https://localhost:8080/",
          "height": 265
        },
        "id": "6t7JbnkH1i4t",
        "outputId": "b0bc5783-6587-4e0d-f717-2481f8e7640b"
      },
      "execution_count": 16,
      "outputs": [
        {
          "output_type": "display_data",
          "data": {
            "text/plain": [
              "<Figure size 432x288 with 1 Axes>"
            ],
            "image/png": "[encoded data removed]"
          },
          "metadata": {
            "needs_background": "light"
          }
        }
      ]
    },
    {
      "cell_type": "code",
      "source": [
        "import numpy as np\n",
        "import random\n",
        "import time\n",
        "from google.colab import widgets\n",
        "from matplotlib import pylab\n",
        "grid = widgets.Grid(2, 2)\n",
        "for i in range(3):\n",
        "  with grid.output_to(0, 1):\n",
        "     digit = train_images[i]\n",
        "     plt.imshow(digit, cmap=plt.cm.binary)\n",
        "     plt.show()\n",
        "  time.sleep(0.5)"
      ],
      "metadata": {
        "colab": {
          "base_uri": "https://localhost:8080/",
          "height": 768
        },
        "id": "MIzdk4Qt4eUK",
        "outputId": "0048bb0f-ee2f-4632-d6f4-bfa94041e211"
      },
      "execution_count": 17,
      "outputs": [
        {
          "output_type": "display_data",
          "data": {
            "text/plain": [
              "<IPython.core.display.HTML object>"
            ],
            "text/html": [
              "<style>\n",
              "       table#id4, #id4 > tbody > tr > th, #id4 > tbody > tr > td {\n",
              "         border: 1px solid lightgray;\n",
              "         border-collapse:collapse;\n",
              "         \n",
              "        }</style>"
            ]
          },
          "metadata": {}
        },
        {
          "output_type": "display_data",
          "data": {
            "text/plain": [
              "<IPython.core.display.HTML object>"
            ],
            "text/html": [
              "<table id=id4><tr><td id=id4-0-0></td><td id=id4-0-1></td></tr><tr><td id=id4-1-0></td><td id=id4-1-1></td></tr></table>"
            ]
          },
          "metadata": {}
        },
        {
          "output_type": "display_data",
          "data": {
            "text/plain": [
              "<IPython.core.display.Javascript object>"
            ],
            "application/javascript": [
              "window[\"5975acd4-9b9d-11ed-9b3a-0242ac1c000c\"] = google.colab.output.getActiveOutputArea();\n",
              "//# sourceURL=js_117b8cf4de"
            ]
          },
          "metadata": {}
        },
        {
          "output_type": "display_data",
          "data": {
            "text/plain": [
              "<IPython.core.display.Javascript object>"
            ],
            "application/javascript": [
              "window[\"59760328-9b9d-11ed-9b3a-0242ac1c000c\"] = document.querySelector(\"#id4-0-1\");\n",
              "//# sourceURL=js_0495513937"
            ]
          },
          "metadata": {}
        },
        {
          "output_type": "display_data",
          "data": {
            "text/plain": [
              "<IPython.core.display.Javascript object>"
            ],
            "application/javascript": [
              "window[\"597653be-9b9d-11ed-9b3a-0242ac1c000c\"] = google.colab.output.setActiveOutputArea(window[\"59760328-9b9d-11ed-9b3a-0242ac1c000c\"]);\n",
              "//# sourceURL=js_2660fdd375"
            ]
          },
          "metadata": {}
        },
        {
          "output_type": "display_data",
          "data": {
            "text/plain": [
              "<Figure size 432x288 with 1 Axes>"
            ],
            "image/png": "[encoded data removed]"
          },
          "metadata": {
            "needs_background": "light"
          }
        },
        {
          "output_type": "display_data",
          "data": {
            "text/plain": [
              "<IPython.core.display.Javascript object>"
            ],
            "application/javascript": [
              "window[\"598a6264-9b9d-11ed-9b3a-0242ac1c000c\"] = google.colab.output.setActiveOutputArea(window[\"5975acd4-9b9d-11ed-9b3a-0242ac1c000c\"]);\n",
              "//# sourceURL=js_91c2cf3f4a"
            ]
          },
          "metadata": {}
        },
        {
          "output_type": "display_data",
          "data": {
            "text/plain": [
              "<IPython.core.display.Javascript object>"
            ],
            "application/javascript": [
              "window[\"59d88c32-9b9d-11ed-9b3a-0242ac1c000c\"] = google.colab.output.getActiveOutputArea();\n",
              "//# sourceURL=js_93165af97d"
            ]
          },
          "metadata": {}
        },
        {
          "output_type": "display_data",
          "data": {
            "text/plain": [
              "<IPython.core.display.Javascript object>"
            ],
            "application/javascript": [
              "window[\"59d8cf12-9b9d-11ed-9b3a-0242ac1c000c\"] = document.querySelector(\"#id4-0-1\");\n",
              "//# sourceURL=js_86014ea852"
            ]
          },
          "metadata": {}
        },
        {
          "output_type": "display_data",
          "data": {
            "text/plain": [
              "<IPython.core.display.Javascript object>"
            ],
            "application/javascript": [
              "window[\"59d90f86-9b9d-11ed-9b3a-0242ac1c000c\"] = google.colab.output.setActiveOutputArea(window[\"59d8cf12-9b9d-11ed-9b3a-0242ac1c000c\"]);\n",
              "//# sourceURL=js_6b76301236"
            ]
          },
          "metadata": {}
        },
        {
          "output_type": "display_data",
          "data": {
            "text/plain": [
              "<Figure size 432x288 with 1 Axes>"
            ],
            "image/png": "[encoded data removed]"
          },
          "metadata": {
            "needs_background": "light"
          }
        },
        {
          "output_type": "display_data",
          "data": {
            "text/plain": [
              "<IPython.core.display.Javascript object>"
            ],
            "application/javascript": [
              "window[\"59f07068-9b9d-11ed-9b3a-0242ac1c000c\"] = google.colab.output.setActiveOutputArea(window[\"59d88c32-9b9d-11ed-9b3a-0242ac1c000c\"]);\n",
              "//# sourceURL=js_b819e798ec"
            ]
          },
          "metadata": {}
        },
        {
          "output_type": "display_data",
          "data": {
            "text/plain": [
              "<IPython.core.display.Javascript object>"
            ],
            "application/javascript": [
              "window[\"5a3f3266-9b9d-11ed-9b3a-0242ac1c000c\"] = google.colab.output.getActiveOutputArea();\n",
              "//# sourceURL=js_3201ead016"
            ]
          },
          "metadata": {}
        },
        {
          "output_type": "display_data",
          "data": {
            "text/plain": [
              "<IPython.core.display.Javascript object>"
            ],
            "application/javascript": [
              "window[\"5a3f72d0-9b9d-11ed-9b3a-0242ac1c000c\"] = document.querySelector(\"#id4-0-1\");\n",
              "//# sourceURL=js_e51ef0d515"
            ]
          },
          "metadata": {}
        },
        {
          "output_type": "display_data",
          "data": {
            "text/plain": [
              "<IPython.core.display.Javascript object>"
            ],
            "application/javascript": [
              "window[\"5a3fb33a-9b9d-11ed-9b3a-0242ac1c000c\"] = google.colab.output.setActiveOutputArea(window[\"5a3f72d0-9b9d-11ed-9b3a-0242ac1c000c\"]);\n",
              "//# sourceURL=js_9c64ae0153"
            ]
          },
          "metadata": {}
        },
        {
          "output_type": "display_data",
          "data": {
            "text/plain": [
              "<Figure size 432x288 with 1 Axes>"
            ],
            "image/png": "[encoded data removed]"
          },
          "metadata": {
            "needs_background": "light"
          }
        },
        {
          "output_type": "display_data",
          "data": {
            "text/plain": [
              "<IPython.core.display.Javascript object>"
            ],
            "application/javascript": [
              "window[\"5a52bb92-9b9d-11ed-9b3a-0242ac1c000c\"] = google.colab.output.setActiveOutputArea(window[\"5a3f3266-9b9d-11ed-9b3a-0242ac1c000c\"]);\n",
              "//# sourceURL=js_d793820bc5"
            ]
          },
          "metadata": {}
        }
      ]
    },
    {
      "cell_type": "markdown",
      "source": [
        "Add dense layers"
      ],
      "metadata": {
        "id": "0X1iXdITzgiq"
      }
    },
    {
      "cell_type": "code",
      "source": [
        "model = keras.Sequential([\n",
        "    layers.Dense(512, activation=\"relu\"),\n",
        "    layers.Dense(10, activation=\"softmax\")\n",
        "])"
      ],
      "metadata": {
        "id": "DmGB3UIwzgRS"
      },
      "execution_count": 6,
      "outputs": []
    },
    {
      "cell_type": "markdown",
      "source": [
        "Reshape training and testing sets to match expected input"
      ],
      "metadata": {
        "id": "VEkwu9MzzpNR"
      }
    },
    {
      "cell_type": "code",
      "source": [
        "train_images = train_images.reshape((60000, 28 * 28))\n",
        "train_images = train_images.astype(\"float32\") / 255 \n",
        "test_images = test_images.reshape((10000, 28 * 28))\n",
        "test_images = test_images.astype(\"float32\") / 255"
      ],
      "metadata": {
        "id": "4G5NYnTbzkGa"
      },
      "execution_count": 7,
      "outputs": []
    },
    {
      "cell_type": "markdown",
      "source": [
        "Compile the model"
      ],
      "metadata": {
        "id": "K18ewSpB0qtr"
      }
    },
    {
      "cell_type": "code",
      "source": [
        "model.compile(optimizer=\"rmsprop\",\n",
        "              loss=\"sparse_categorical_crossentropy\",\n",
        "              metrics=[\"accuracy\"])"
      ],
      "metadata": {
        "id": "k4VrBuJe0tSo"
      },
      "execution_count": 8,
      "outputs": []
    },
    {
      "cell_type": "markdown",
      "source": [
        "Fit the model and train it"
      ],
      "metadata": {
        "id": "WFEw24F-z4yc"
      }
    },
    {
      "cell_type": "code",
      "source": [
        "model.fit(train_images, train_labels, epochs=10, batch_size=128)"
      ],
      "metadata": {
        "colab": {
          "base_uri": "https://localhost:8080/"
        },
        "id": "Eo00El3Nz3Fl",
        "outputId": "a172776c-f40d-4cc5-a620-23b9c5651e5e"
      },
      "execution_count": 9,
      "outputs": [
        {
          "output_type": "stream",
          "name": "stdout",
          "text": [
            "Epoch 1/10\n",
            "469/469 [==============================] - 4s 3ms/step - loss: 0.2559 - accuracy: 0.9260\n",
            "Epoch 2/10\n",
            "469/469 [==============================] - 1s 3ms/step - loss: 0.1044 - accuracy: 0.9690\n",
            "Epoch 3/10\n",
            "469/469 [==============================] - 1s 3ms/step - loss: 0.0685 - accuracy: 0.9793\n",
            "Epoch 4/10\n",
            "469/469 [==============================] - 1s 3ms/step - loss: 0.0494 - accuracy: 0.9848\n",
            "Epoch 5/10\n",
            "469/469 [==============================] - 1s 3ms/step - loss: 0.0370 - accuracy: 0.9889\n",
            "Epoch 6/10\n",
            "469/469 [==============================] - 1s 3ms/step - loss: 0.0289 - accuracy: 0.9916\n",
            "Epoch 7/10\n",
            "469/469 [==============================] - 1s 3ms/step - loss: 0.0213 - accuracy: 0.9943\n",
            "Epoch 8/10\n",
            "469/469 [==============================] - 1s 3ms/step - loss: 0.0167 - accuracy: 0.9952\n",
            "Epoch 9/10\n",
            "469/469 [==============================] - 1s 3ms/step - loss: 0.0130 - accuracy: 0.9964\n",
            "Epoch 10/10\n",
            "469/469 [==============================] - 1s 3ms/step - loss: 0.0098 - accuracy: 0.9971\n"
          ]
        },
        {
          "output_type": "execute_result",
          "data": {
            "text/plain": [
              "<keras.callbacks.History at 0x7fb25ce388e0>"
            ]
          },
          "metadata": {},
          "execution_count": 9
        }
      ]
    },
    {
      "cell_type": "markdown",
      "source": [
        "Make predictions using the model"
      ],
      "metadata": {
        "id": "fUuCRkG10B99"
      }
    },
    {
      "cell_type": "code",
      "source": [
        "test_digits = test_images[0:10]\n",
        "predictions = model.predict(test_digits)\n",
        "display(predictions[0])\n",
        "display(predictions[0].argmax())\n",
        "display(predictions[0][7])"
      ],
      "metadata": {
        "colab": {
          "base_uri": "https://localhost:8080/",
          "height": 127
        },
        "id": "UJAYQMbX0F4U",
        "outputId": "67561852-e6cd-4167-d1cd-879c69b9df6a"
      },
      "execution_count": 10,
      "outputs": [
        {
          "output_type": "stream",
          "name": "stdout",
          "text": [
            "1/1 [==============================] - 0s 61ms/step\n"
          ]
        },
        {
          "output_type": "display_data",
          "data": {
            "text/plain": [
              "array([6.7130961e-11, 7.6700729e-16, 6.5599708e-09, 1.9415275e-07,\n",
              "       1.3798562e-15, 6.4413093e-11, 1.3228282e-18, 9.9999976e-01,\n",
              "       1.6785903e-10, 6.2125975e-09], dtype=float32)"
            ]
          },
          "metadata": {}
        },
        {
          "output_type": "display_data",
          "data": {
            "text/plain": [
              "7"
            ]
          },
          "metadata": {}
        },
        {
          "output_type": "display_data",
          "data": {
            "text/plain": [
              "0.99999976"
            ]
          },
          "metadata": {}
        }
      ]
    },
    {
      "cell_type": "markdown",
      "source": [
        "Calculate the model loss and accuracy on the testing set"
      ],
      "metadata": {
        "id": "8GO8M0Hd0Whi"
      }
    },
    {
      "cell_type": "code",
      "source": [
        "test_loss, test_acc = model.evaluate(test_images, test_labels)\n",
        "print(f\"test_acc: {test_acc}\")"
      ],
      "metadata": {
        "colab": {
          "base_uri": "https://localhost:8080/"
        },
        "id": "rLN1nt1h0bQs",
        "outputId": "f0ab432e-9ecb-46d0-9be6-f59777022a7b"
      },
      "execution_count": 11,
      "outputs": [
        {
          "output_type": "stream",
          "name": "stdout",
          "text": [
            "313/313 [==============================] - 1s 2ms/step - loss: 0.0686 - accuracy: 0.9820\n",
            "test_acc: 0.9819999933242798\n"
          ]
        }
      ]
    },
    {
      "cell_type": "code",
      "source": [
        "result = subprocess.run([\"ls\", \"/\"], stdout=subprocess.PIPE)\n",
        "print(result.stdout.decode())"
      ],
      "metadata": {
        "colab": {
          "base_uri": "https://localhost:8080/"
        },
        "id": "MSCZc-Ii6kYK",
        "outputId": "d072bfc9-35b4-4b06-9d25-9c83f2826182"
      },
      "execution_count": 12,
      "outputs": [
        {
          "output_type": "stream",
          "name": "stdout",
          "text": [
            "bin\n",
            "boot\n",
            "content\n",
            "datalab\n",
            "dev\n",
            "etc\n",
            "home\n",
            "lib\n",
            "lib32\n",
            "lib64\n",
            "libx32\n",
            "media\n",
            "mnt\n",
            "NGC-DL-CONTAINER-LICENSE\n",
            "opt\n",
            "proc\n",
            "root\n",
            "run\n",
            "sbin\n",
            "srv\n",
            "sys\n",
            "tmp\n",
            "tools\n",
            "usr\n",
            "var\n",
            "\n"
          ]
        }
      ]
    }
  ]
}